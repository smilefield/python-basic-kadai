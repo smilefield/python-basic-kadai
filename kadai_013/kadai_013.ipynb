{
  "nbformat": 4,
  "nbformat_minor": 0,
  "metadata": {
    "colab": {
      "provenance": []
    },
    "kernelspec": {
      "name": "python3",
      "display_name": "Python 3"
    },
    "language_info": {
      "name": "python"
    }
  },
  "cells": [
    {
      "cell_type": "code",
      "execution_count": 23,
      "metadata": {
        "colab": {
          "base_uri": "https://localhost:8080/"
        },
        "id": "tEN8rIQCuJyV",
        "outputId": "4f72579e-8426-46fe-b69a-6039fa887586"
      },
      "outputs": [
        {
          "output_type": "stream",
          "name": "stdout",
          "text": [
            "1100.0円\n"
          ]
        }
      ],
      "source": [
        "#購入済みかどうかを判定する変数\n",
        "purchased = True\n",
        "\n",
        "#戻り値を返す関数を定義する\n",
        "def is_purchased():\n",
        "    if (purchased):\n",
        "      return True\n",
        "    else:\n",
        "      return False\n",
        "\n",
        "#Trueであれば、処理が実行される\n",
        "if(is_purchased()):\n",
        "    def add_two_arguments(price,tax):\n",
        "        total = price + price * tax\n",
        "\n",
        "        print(f\"{total}円\")\n",
        "\n",
        "#関数を呼び出し、引数として購入金額と消費率を渡す\n",
        "add_two_arguments(1000,0.1)\n",
        "\n"
      ]
    }
  ]
}