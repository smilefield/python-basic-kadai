{
  "nbformat": 4,
  "nbformat_minor": 0,
  "metadata": {
    "colab": {
      "provenance": []
    },
    "kernelspec": {
      "name": "python3",
      "display_name": "Python 3"
    },
    "language_info": {
      "name": "python"
    }
  },
  "cells": [
    {
      "cell_type": "code",
      "execution_count": null,
      "metadata": {
        "id": "6oEFxkhcGgm3",
        "colab": {
          "base_uri": "https://localhost:8080/"
        },
        "outputId": "206d66e0-0e90-4e08-bed9-1a41919f5301"
      },
      "outputs": [
        {
          "output_type": "stream",
          "name": "stdout",
          "text": [
            "田中\n",
            "20\n"
          ]
        }
      ],
      "source": [
        "class Human:\n",
        "    def __init__(self, name, age):\n",
        "        self.name = name\n",
        "        self.age = age\n",
        "\n",
        "    #メソッドを定義\n",
        "    def printinfo(self, name, age):\n",
        "        print(self.name)\n",
        "        print(self.age)\n",
        "\n",
        "#インスタンス化\n",
        "human = Human(\"田中\",20)\n",
        "\n",
        "#メソッドにアクセス\n",
        "human. printinfo(human.name, human.age)\n",
        "\n",
        "\n",
        "\n",
        "\n",
        "\n",
        "\n",
        "\n",
        "\n",
        "\n",
        "\n",
        "\n",
        "\n"
      ]
    }
  ]
}